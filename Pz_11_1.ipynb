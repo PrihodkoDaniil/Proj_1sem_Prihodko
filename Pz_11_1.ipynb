{
  "nbformat": 4,
  "nbformat_minor": 0,
  "metadata": {
    "colab": {
      "name": "Pz_11_1.ipynb",
      "provenance": [],
      "collapsed_sections": [],
      "authorship_tag": "ABX9TyOOQv89RIDxN2vbWw1ajGiC",
      "include_colab_link": true
    },
    "kernelspec": {
      "name": "python3",
      "display_name": "Python 3"
    },
    "language_info": {
      "name": "python"
    }
  },
  "cells": [
    {
      "cell_type": "markdown",
      "metadata": {
        "id": "view-in-github",
        "colab_type": "text"
      },
      "source": [
        "<a href=\"https://colab.research.google.com/github/PrihodkoDaniil/Proj_1sem_Prihodko/blob/master/Pz_11_1.ipynb\" target=\"_parent\"><img src=\"https://colab.research.google.com/assets/colab-badge.svg\" alt=\"Open In Colab\"/></a>"
      ]
    },
    {
      "cell_type": "markdown",
      "source": [
        "Задача 1 (3 практическая)"
      ],
      "metadata": {
        "id": "Hwd41xAqbyiu"
      }
    },
    {
      "cell_type": "code",
      "execution_count": null,
      "metadata": {
        "id": "0ZxSmh-abpjq"
      },
      "outputs": [],
      "source": [
        "# Дано целое положительное число\n",
        "# Проверить истинность высказывания: \"Данное число является четным двузначным\"\n",
        "\n",
        "while True: # обработка исключений\n",
        "    try:\n",
        "        a = int(input(\"Введите целое число: \"))\n",
        "        if 10 < a < 100 and (a % 2) == 0:\n",
        "            print(\"Истинно\")\n",
        "        else:\n",
        "            print(\"Ложно\")\n",
        "    except ValueError:\n",
        "        print(\"Введены неверные данные\")"
      ]
    },
    {
      "cell_type": "markdown",
      "source": [
        "Задача 2 (4 практическая)"
      ],
      "metadata": {
        "id": "ASn2ThoJcYqP"
      }
    },
    {
      "cell_type": "code",
      "source": [
        "#Дано целое число N\n",
        "#Используя один цикл, найти сумму 1 + 1/(1!) + 1/(2!) + 1/(3!) + ... +1/(N!)\n",
        "while True: #Обработка исключений\n",
        "    try:\n",
        "        N = int(input(\"Введите N: \"))\n",
        "        break\n",
        "    except ValueError:\n",
        "        print(\"Неверный формат\")\n",
        "factorial = 1\n",
        "summ = 1\n",
        "i = 1\n",
        "while i <= N:\n",
        "    factorial *= i\n",
        "    num = 1/factorial\n",
        "    i= i+1\n",
        "    summ+=num\n",
        "print(round(summ,1))"
      ],
      "metadata": {
        "colab": {
          "base_uri": "https://localhost:8080/"
        },
        "id": "H5VVWVJacf2O",
        "outputId": "ec9141de-3ec4-45f9-ed41-0f8a93bcffa4"
      },
      "execution_count": 6,
      "outputs": [
        {
          "output_type": "stream",
          "name": "stdout",
          "text": [
            "Введите N: 5\n",
            "2.7\n"
          ]
        }
      ]
    },
    {
      "cell_type": "markdown",
      "source": [
        "Задача 3 ( 5 практическая)"
      ],
      "metadata": {
        "id": "wbxJWCy2dBkW"
      }
    },
    {
      "cell_type": "code",
      "source": [
        "# Составить программу, в которой функция построит изображение\n",
        "# В котором в первой строке 1 звездочка, во второй - 2, в третьей -3, ..., в строке с номером m - m звездочек.\n",
        "def picture(n, i=1):\n",
        "    while i <= n:\n",
        "        pic = (i *'*')\n",
        "        i = i+1\n",
        "        print(pic)\n",
        "lines = int(input(\"Введите количество строк: \"))\n",
        "picture(lines)"
      ],
      "metadata": {
        "colab": {
          "base_uri": "https://localhost:8080/"
        },
        "id": "XW4ix6JcdKzZ",
        "outputId": "8d1ab737-1d1a-47ba-a0b0-ddbbd13599ab"
      },
      "execution_count": 9,
      "outputs": [
        {
          "output_type": "stream",
          "name": "stdout",
          "text": [
            "Введите количество строк: 2\n",
            "*\n",
            "**\n"
          ]
        }
      ]
    }
  ]
}